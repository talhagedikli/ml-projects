{
  "nbformat": 4,
  "nbformat_minor": 0,
  "metadata": {
    "colab": {
      "provenance": [],
      "include_colab_link": true
    },
    "kernelspec": {
      "name": "python3",
      "display_name": "Python 3"
    },
    "language_info": {
      "name": "python"
    }
  },
  "cells": [
    {
      "cell_type": "markdown",
      "metadata": {
        "id": "view-in-github",
        "colab_type": "text"
      },
      "source": [
        "<a href=\"https://colab.research.google.com/github/talhagedikli/ml-projects/blob/main/19069608_Code_2023.ipynb\" target=\"_parent\"><img src=\"https://colab.research.google.com/assets/colab-badge.svg\" alt=\"Open In Colab\"/></a>"
      ]
    },
    {
      "cell_type": "markdown",
      "source": [
        "# To obtain shipment schedule"
      ],
      "metadata": {
        "id": "SI-WmeWsAtT7"
      }
    },
    {
      "cell_type": "markdown",
      "source": [
        "## Construct the mathematical model"
      ],
      "metadata": {
        "id": "5olx0rSxAUoD"
      }
    },
    {
      "cell_type": "markdown",
      "source": [
        "```\n",
        "x[i][j]: The number of books sent from warehouse i to distribution center j.\n",
        "y[j][k]: The number of books sent from distribution center j to store k.\n",
        "z[i][k]: The number of books sent directly from warehouse i to store k.\n",
        "```\n",
        "\n",
        "The objective is to minimize the total cost of transportation, which can be expressed as:\n",
        "\n",
        "`minimize sum(c[i][j]*x[i][j] for i in warehouses for j in distribution_centers) + sum(d[j][k]*y[j][k] for j in distribution_centers for k in stores) + sum(e[i][k]*z[i][k] for i in warehouses for k in stores)`\n",
        "\n",
        "where `c[i][j]` is the cost of sending one book from warehouse `i` to distribution center `j`, `d[j][k]` is the cost of sending one book from distribution center `j` to store k, and `e[i][k]` is the cost of sending one book directly from warehouse `i` to store `k`.\n",
        "The constraints are:\n",
        "The total number of books sent from each warehouse must not exceed its capacity:\n",
        "\n",
        "`sum(x[i][j] for j in distribution_centers) + sum(z[i][k] for k in stores) <= capacity[i] for i in warehouses`\n",
        "\n",
        "The total number of books received by each store must meet its demand:\n",
        "\n",
        "`sum(y[j][k] for j in distribution_centers) + sum(z[i][k] for i in warehouses) == demand[k] for k in stores`\n",
        "\n",
        "The total number of books sent from each distribution center must equal the total number received:\n",
        "\n",
        "`sum(x[i][j] for i in warehouses) == sum(y[j][k] for k in stores) for j in distribution_centers`\n",
        "\n",
        "All variables must be non-negative:\n",
        "```\n",
        "x[i][j] >= 0 for i in warehouses for j in distribution_centers\n",
        "y[j][k] >= 0 for j in distribution_centers for k in stores\n",
        "z[i][k] >= 0 for i in warehouses for k in stores\n",
        "```\n"
      ],
      "metadata": {
        "id": "x8ZZHBTqAUWS"
      }
    },
    {
      "cell_type": "markdown",
      "source": [
        "## Create your own shipment cost values by using Python code given in jupyter notebook"
      ],
      "metadata": {
        "id": "fFCY7tBy7Fl6"
      }
    },
    {
      "cell_type": "code",
      "execution_count": null,
      "metadata": {
        "colab": {
          "base_uri": "https://localhost:8080/"
        },
        "id": "x-JSEM-h6pWy",
        "outputId": "82b3443b-6000-4a69-a790-a9a008f4436c"
      },
      "outputs": [
        {
          "output_type": "stream",
          "name": "stdout",
          "text": [
            "The shipment cost from factory to distribution center\n",
            "[[2 8 8]\n",
            " [7 2 3]\n",
            " [3 2 1]\n",
            " [6 8 9]]\n",
            "The shipment cost from distribution center to store\n",
            "[[6 9 6 3 6]\n",
            " [4 6 3 4 9]\n",
            " [4 6 1 8 9]]\n",
            "The shipment cost from factory to store\n",
            "[[9 5 9 7 7]\n",
            " [3 6 3 3 9]\n",
            " [3 6 8 6 6]\n",
            " [7 5 4 4 9]]\n"
          ]
        }
      ],
      "source": [
        "import numpy as np\n",
        "import pandas as pd\n",
        "import math\n",
        "\n",
        "'''\n",
        "Important note!!\n",
        "I randomly generated numbers here in a different way. Numbers like 0, 1, 2 (like in x[i][j])\n",
        "represent things like Tonoz(0), White_Kiosk(1), Quarterage(2). I explained these clearly in the results.\n",
        "\n",
        "Here is a quick explanation:\n",
        "\n",
        "x[i][j]: The number of books sent from warehouse i to distribution center j.\n",
        "y[j][k]: The number of books sent from distribution center j to store k.\n",
        "z[i][k]: The number of books sent directly from warehouse i to store k.\n",
        "\n",
        "Warehouses (i):             [Tonoz(0), White_Kiosk(1), Quarterage(2), Middle_Yard(3)]\n",
        "Distribution Centers (j):   [Atlas(0), Nebulae(1), Azure(2)]\n",
        "Stores (k):                 [Venus(0), Minerva(1), Neptunus(2), Mars(3), Ceres(4)]\n",
        "'''\n",
        "\n",
        "\n",
        "# Number of warehouses\n",
        "n_warehouses = 4\n",
        "\n",
        "# Number of distribution centers\n",
        "n_distribution_centers = 3\n",
        "\n",
        "# Number of stores\n",
        "n_stores = 5\n",
        "\n",
        "np.random.seed(19069608)\n",
        "\n",
        "# Generate random cost values for sending books from warehouses to distribution centers\n",
        "c = np.random.randint(1, 10, size=(n_warehouses, n_distribution_centers))\n",
        "\n",
        "# Generate random cost values for sending books from distribution centers to stores\n",
        "d = np.random.randint(1, 10, size=(n_distribution_centers, n_stores))\n",
        "\n",
        "# Generate random cost values for sending books directly from warehouses to stores\n",
        "e = np.random.randint(1, 10, size=(n_warehouses, n_stores))\n",
        "\n",
        "print(\"The shipment cost from factory to distribution center\")\n",
        "print(c)\n",
        "print(\"The shipment cost from distribution center to store\")\n",
        "print(d)\n",
        "print(\"The shipment cost from factory to store\")\n",
        "print(e)"
      ]
    },
    {
      "cell_type": "markdown",
      "source": [
        "This code generates random cost values for sending books from warehouses to distribution centers (c), from distribution centers to stores (d), and directly from warehouses to stores (e). The cost values are integers between 1 and 9 (inclusive)."
      ],
      "metadata": {
        "id": "VM2lnbPj_6ES"
      }
    },
    {
      "cell_type": "markdown",
      "source": [
        "## Code your mathematical model with parameters"
      ],
      "metadata": {
        "id": "FeZaDPnZ_Pfb"
      }
    },
    {
      "cell_type": "code",
      "source": [
        "# I will use pulp to create and solve the problem\n",
        "!pip install pulp"
      ],
      "metadata": {
        "colab": {
          "base_uri": "https://localhost:8080/"
        },
        "id": "1RYUednQJW2i",
        "outputId": "3f93c9bb-0f4b-4b54-d40e-4a996e1397af"
      },
      "execution_count": null,
      "outputs": [
        {
          "output_type": "stream",
          "name": "stdout",
          "text": [
            "Looking in indexes: https://pypi.org/simple, https://us-python.pkg.dev/colab-wheels/public/simple/\n",
            "Requirement already satisfied: pulp in /usr/local/lib/python3.10/dist-packages (2.7.0)\n"
          ]
        }
      ]
    },
    {
      "cell_type": "code",
      "source": [
        "from pulp import LpProblem, LpMinimize, LpVariable, lpSum\n",
        "import numpy as np\n",
        "\n",
        "# Define the problem data\n",
        "n_warehouses = 4\n",
        "n_distribution_centers = 3\n",
        "n_stores = 5\n",
        "\n",
        "capacity = [3000, 5000, 10000, 7000]\n",
        "demand = [5500, 4750, 6550, 4000, 4200]\n",
        "\n",
        "np.random.seed(19069608)\n",
        "c = np.random.randint(1, 10, size=(n_warehouses, n_distribution_centers))\n",
        "d = np.random.randint(1, 10, size=(n_distribution_centers, n_stores))\n",
        "e = np.random.randint(1, 10, size=(n_warehouses, n_stores))\n",
        "\n",
        "\n",
        "# Define the decision variables\n",
        "x = LpVariable.dicts(\"x\", (range(n_warehouses), range(n_distribution_centers)), lowBound=0)\n",
        "y = LpVariable.dicts(\"y\", (range(n_distribution_centers), range(n_stores)), lowBound=0)\n",
        "z = LpVariable.dicts(\"z\", (range(n_warehouses), range(n_stores)), lowBound=0)\n",
        "\n",
        "# Define the problem\n",
        "prob = LpProblem(\"TransportationProblem\", LpMinimize)\n",
        "\n",
        "# Define the objective function\n",
        "cost = lpSum(c[i][j]*x[i][j] for i in range(n_warehouses) for j in range(n_distribution_centers)) + lpSum(d[j][k]*y[j][k] for j in range(n_distribution_centers) for k in range(n_stores)) + lpSum(e[i][k]*z[i][k] for i in range(n_warehouses) for k in range(n_stores))\n",
        "prob += cost\n",
        "\n",
        "# Define the constraints\n",
        "# The total number of books sent from each warehouse must not exceed its capacity\n",
        "for i in range(n_warehouses):\n",
        "    prob += lpSum(x[i][j] for j in range(n_distribution_centers)) + lpSum(z[i][k] for k in range(n_stores)) <= capacity[i]\n",
        "\n",
        "# The total number of books received by each store must meet its demand\n",
        "for k in range(n_stores):\n",
        "    prob += lpSum(y[j][k] for j in range(n_distribution_centers)) + lpSum(z[i][k] for i in range(n_warehouses)) == demand[k]\n",
        "\n",
        "# The total number of books sent from each distribution center must equal the total number received\n",
        "for j in range(n_distribution_centers):\n",
        "    prob += lpSum(x[i][j] for i in range(n_warehouses)) == lpSum(y[j][k] for k in range(n_stores))\n"
      ],
      "metadata": {
        "id": "GHi8KpSQ_VTp"
      },
      "execution_count": null,
      "outputs": []
    },
    {
      "cell_type": "markdown",
      "source": [
        "This code defines a linear programming problem using the pulp library. The decision variables are x, y, and z, which represent the number of books sent from warehouses to distribution centers (x), from distribution centers to stores (y), and directly from warehouses to stores (z). The objective is to minimize the total cost of transportation (cost), subject to constraints on the capacity of warehouses and the demand of stores.\n",
        "\n",
        "The problem is solved using the solve method of the LpProblem object and the open-source CBC solver. The optimal solution is printed at the end."
      ],
      "metadata": {
        "id": "4Xhnaar5_bcb"
      }
    },
    {
      "cell_type": "markdown",
      "source": [
        "## Solve the model"
      ],
      "metadata": {
        "id": "0nKyuUrT_lvP"
      }
    },
    {
      "cell_type": "code",
      "source": [
        "# Solve the problem using the CBC solver\n",
        "prob.solve()\n",
        "\n",
        "# Print the optimal solution\n",
        "print(\"Optimal transportation plan:\")\n",
        "for i in range(n_warehouses):\n",
        "    for j in range(n_distribution_centers):\n",
        "      # Do not print the value if it's 0 value (means no distribution between them)\n",
        "      if (x[i][j].value() > 0):\n",
        "        print(f\"x[{i}][{j}] =\", x[i][j].value())\n",
        "for j in range(n_distribution_centers):\n",
        "    for k in range(n_stores):\n",
        "      # Do not print the value if it's 0 value (means no distribution between them)\n",
        "      if (y[j][k].value() > 0):\n",
        "        print(f\"y[{j}][{k}] =\", y[j][k].value())\n",
        "for i in range(n_warehouses):\n",
        "    for k in range(n_stores):\n",
        "      # Do not print the value if it's 0 value (means no distribution between them)\n",
        "      if (z[i][k].value() > 0):\n",
        "        print(f\"z[{i}][{k}] =\", z[i][k].value())\n",
        "print('------------------------------------------------------------------------')\n",
        "print(\"Total (optimal minimum) cost:\", cost.value())\n",
        "print('------------------------------------------------------------------------')\n",
        "print('x[i][j]: The number of books sent from \\x1B[3mwarehouse\\x1B[0m i to \\x1B[3mdistribution center\\x1B[0m j.')\n",
        "print('y[j][k]: The number of books sent from \\x1B[3mdistribution center\\x1B[0m j to \\x1B[3mstore\\x1B[0m k.')\n",
        "print('z[i][k]: The number of books sent directly from \\x1B[3mwarehouse\\x1B[0m i to \\x1B[3mstore\\x1B[0m k.')\n",
        "print('------------------------------------------------------------------------')\n",
        "print(\"Warehouses (i):              [Tonoz(0), White_Kiosk(1), Quarterage(2), Middle_Yard(3)]\")\n",
        "print(\"Distribution Centers (j):    [Atlas(0), Nebulae(1), Azure(2)]\")\n",
        "print(\"Stores (k):                  [Venus(0), Minerva(1), Neptunus(2), Mars(3), Ceres(4)]\")"
      ],
      "metadata": {
        "id": "XwWOnpkg_t9b",
        "colab": {
          "base_uri": "https://localhost:8080/"
        },
        "outputId": "4c4546b8-fc68-4da4-e858-4b2d3765878e"
      },
      "execution_count": null,
      "outputs": [
        {
          "output_type": "stream",
          "name": "stdout",
          "text": [
            "Optimal transportation plan:\n",
            "x[2][2] = 6550.0\n",
            "y[2][2] = 6550.0\n",
            "z[0][1] = 1750.0\n",
            "z[0][4] = 1250.0\n",
            "z[1][0] = 5000.0\n",
            "z[2][0] = 500.0\n",
            "z[2][4] = 2950.0\n",
            "z[3][1] = 3000.0\n",
            "z[3][3] = 4000.0\n",
            "------------------------------------------------------------------------\n",
            "Total (optimal minimum) cost: 95800.0\n",
            "------------------------------------------------------------------------\n",
            "x[i][j]: The number of books sent from \u001b[3mwarehouse\u001b[0m i to \u001b[3mdistribution center\u001b[0m j.\n",
            "y[j][k]: The number of books sent from \u001b[3mdistribution center\u001b[0m j to \u001b[3mstore\u001b[0m k.\n",
            "z[i][k]: The number of books sent directly from \u001b[3mwarehouse\u001b[0m i to \u001b[3mstore\u001b[0m k.\n",
            "------------------------------------------------------------------------\n",
            "Warehouses (i):              [Tonoz(0), White_Kiosk(1), Quarterage(2), Middle_Yard(3)]\n",
            "Distribution Centers (j):    [Atlas(0), Nebulae(1), Azure(2)]\n",
            "Stores (k):                  [Venus(0), Minerva(1), Neptunus(2), Mars(3), Ceres(4)]\n"
          ]
        }
      ]
    },
    {
      "cell_type": "markdown",
      "source": [
        "# Questions"
      ],
      "metadata": {
        "id": "OkcXsTQKA6Bo"
      }
    },
    {
      "cell_type": "markdown",
      "source": [
        "## a) What is your mathematical model?"
      ],
      "metadata": {
        "id": "76mmLL8eBEKx"
      }
    },
    {
      "cell_type": "markdown",
      "source": [
        "The decision variables in the model are:\n",
        "\n",
        "    x[i][j]: The number of books sent from warehouse i to distribution center j.\n",
        "    y[j][k]: The number of books sent from distribution center j to store k.\n",
        "    z[i][k]: The number of books sent directly from warehouse i to store k.\n",
        "\n",
        "The objective function is to minimize the total cost of transportation, which is calculated as the sum of the products of the number of books transported along each route and the cost per book for that route.\n",
        "\n",
        "The constraints in the model ensure that:\n",
        "\n",
        "    The total number of books sent from each warehouse does not exceed its capacity.\n",
        "    The total number of books received by each store meets its demand.\n",
        "    The total number of books sent from each distribution center equals the total number received.\n"
      ],
      "metadata": {
        "id": "nsdY4QRaBKO9"
      }
    },
    {
      "cell_type": "markdown",
      "source": [
        "## b) What is value of the objective function?"
      ],
      "metadata": {
        "id": "t7aijjXaBNcq"
      }
    },
    {
      "cell_type": "code",
      "source": [
        "# The value of the objective function is printed using the statement\n",
        "print(\"Total cost =\", cost.value())"
      ],
      "metadata": {
        "id": "cfK-wpz3BRRC",
        "colab": {
          "base_uri": "https://localhost:8080/"
        },
        "outputId": "5f043514-5c8f-4e9e-c645-7403b483ffce"
      },
      "execution_count": null,
      "outputs": [
        {
          "output_type": "stream",
          "name": "stdout",
          "text": [
            "Total cost = 95800.0\n"
          ]
        }
      ]
    },
    {
      "cell_type": "markdown",
      "source": [
        "## c) What is the value of decision variables? According to this values, evaluate the supply chain and flow in this supply chain?"
      ],
      "metadata": {
        "id": "n5AMwrFBBgbh"
      }
    },
    {
      "cell_type": "code",
      "source": [
        "# Define a function for readability\n",
        "def print_solution_and_cost():\n",
        "  print(\"Optimal transportation plan:\")\n",
        "  for i in range(n_warehouses):\n",
        "      for j in range(n_distribution_centers):\n",
        "        # Do not print the value if it's 0 value (means no distribution between them)\n",
        "        if (x[i][j].value() > 0):\n",
        "          print(f\"x[{i}][{j}] =\", x[i][j].value())\n",
        "  for j in range(n_distribution_centers):\n",
        "      for k in range(n_stores):\n",
        "        # Do not print the value if it's 0 value (means no distribution between them)\n",
        "        if (y[j][k].value() > 0):\n",
        "          print(f\"y[{j}][{k}] =\", y[j][k].value())\n",
        "  for i in range(n_warehouses):\n",
        "      for k in range(n_stores):\n",
        "        # Do not print the value if it's 0 value (means no distribution between them)\n",
        "        if (z[i][k].value() > 0):\n",
        "          print(f\"z[{i}][{k}] =\", z[i][k].value())\n",
        "  print('------------------------------------------------------------------------')\n",
        "  print(\"Total (optimal minimum) cost:\", cost.value())\n",
        "  print('------------------------------------------------------------------------')\n",
        "  print('x[i][j]: The number of books sent from \\x1B[3mwarehouse\\x1B[0m i to \\x1B[3mdistribution center\\x1B[0m j.')\n",
        "  print('y[j][k]: The number of books sent from \\x1B[3mdistribution center\\x1B[0m j to \\x1B[3mstore\\x1B[0m k.')\n",
        "  print('z[i][k]: The number of books sent directly from \\x1B[3mwarehouse\\x1B[0m i to \\x1B[3mstore\\x1B[0m k.')\n",
        "  print('------------------------------------------------------------------------')\n",
        "  print(\"Warehouses (i):              [Tonoz(0), White_Kiosk(1), Quarterage(2), Middle_Yard(3)]\")\n",
        "  print(\"Distribution Centers (j):    [Atlas(0), Nebulae(1), Azure(2)]\")\n",
        "  print(\"Stores (k):                  [Venus(0), Minerva(1), Neptunus(2), Mars(3), Ceres(4)]\")\n",
        "\n",
        "\n",
        "\n",
        "# Print the optimal solution\n",
        "print_solution_and_cost()"
      ],
      "metadata": {
        "id": "d1GedlIABoiJ",
        "colab": {
          "base_uri": "https://localhost:8080/"
        },
        "outputId": "8407abc1-f9e8-4d67-cc4e-fe4f1e6f9f5a"
      },
      "execution_count": null,
      "outputs": [
        {
          "output_type": "stream",
          "name": "stdout",
          "text": [
            "Optimal transportation plan:\n",
            "x[2][2] = 6550.0\n",
            "y[2][2] = 6550.0\n",
            "z[0][1] = 1750.0\n",
            "z[0][4] = 1250.0\n",
            "z[1][0] = 5000.0\n",
            "z[2][0] = 500.0\n",
            "z[2][4] = 2950.0\n",
            "z[3][1] = 3000.0\n",
            "z[3][3] = 4000.0\n",
            "------------------------------------------------------------------------\n",
            "Total (optimal minimum) cost: 95800.0\n",
            "------------------------------------------------------------------------\n",
            "x[i][j]: The number of books sent from \u001b[3mwarehouse\u001b[0m i to \u001b[3mdistribution center\u001b[0m j.\n",
            "y[j][k]: The number of books sent from \u001b[3mdistribution center\u001b[0m j to \u001b[3mstore\u001b[0m k.\n",
            "z[i][k]: The number of books sent directly from \u001b[3mwarehouse\u001b[0m i to \u001b[3mstore\u001b[0m k.\n",
            "------------------------------------------------------------------------\n",
            "Warehouses (i):              [Tonoz(0), White_Kiosk(1), Quarterage(2), Middle_Yard(3)]\n",
            "Distribution Centers (j):    [Atlas(0), Nebulae(1), Azure(2)]\n",
            "Stores (k):                  [Venus(0), Minerva(1), Neptunus(2), Mars(3), Ceres(4)]\n"
          ]
        }
      ]
    },
    {
      "cell_type": "markdown",
      "source": [
        "The values of the decision variables represent the number of books sent along each route in the transportation network. For example, `x[i][j]` represents the number of books sent from warehouse `i` to distribution center `j`, `y[j][k]` represents the number of books sent from distribution center `j` to store `k`, and `z[i][k]` represents the number of books sent directly from warehouse `i` to store `k`. By analyzing these values, we can evaluate the flow of books in the supply chain and see how many books are sent along each route."
      ],
      "metadata": {
        "id": "-fVTwT-BLZLA"
      }
    },
    {
      "cell_type": "markdown",
      "source": [
        "## d) If we change the capacity of warehouse Quarterage from 10000 to 7500, and the demand of Ceres from 4200 to 1700, how do the objective value and the values of the decision variables change?"
      ],
      "metadata": {
        "id": "4_U8zeB_B7tx"
      }
    },
    {
      "cell_type": "markdown",
      "source": [
        "If we change the capacity of warehouse Quarterage from 10000 to 7500, and the demand of Ceres from 4200 to 1700, the values of the decision variables and the objective function will change."
      ],
      "metadata": {
        "id": "MqWb_q5bCGKi"
      }
    },
    {
      "cell_type": "code",
      "source": [
        "from pulp import LpProblem, LpMinimize, LpVariable, lpSum\n",
        "import numpy as np\n",
        "\n",
        "# Define the problem data\n",
        "n_warehouses = 4\n",
        "n_distribution_centers = 3\n",
        "n_stores = 5\n",
        "\n",
        "capacity = [3000, 5000, 7500, 7000] # changed capacity of Quarterage from 10000 to 7500\n",
        "demand = [5500, 4750, 6550, 4000, 1700] # changed demand of Ceres from 4200 to 1700\n",
        "\n",
        "np.random.seed(19069608)\n",
        "c = np.random.randint(1, 10, size=(n_warehouses, n_distribution_centers))\n",
        "d = np.random.randint(1, 10, size=(n_distribution_centers, n_stores))\n",
        "e = np.random.randint(1, 10, size=(n_warehouses, n_stores))\n",
        "\n",
        "# Define the decision variables\n",
        "x = LpVariable.dicts(\"x\", (range(n_warehouses), range(n_distribution_centers)), lowBound=0)\n",
        "y = LpVariable.dicts(\"y\", (range(n_distribution_centers), range(n_stores)), lowBound=0)\n",
        "z = LpVariable.dicts(\"z\", (range(n_warehouses), range(n_stores)), lowBound=0)\n",
        "\n",
        "# Define the problem\n",
        "prob = LpProblem(\"TransportationProblem\", LpMinimize)\n",
        "\n",
        "# Define the objective function\n",
        "cost = lpSum(c[i][j]*x[i][j] for i in range(n_warehouses) for j in range(n_distribution_centers)) + lpSum(d[j][k]*y[j][k] for j in range(n_distribution_centers) for k in range(n_stores)) + lpSum(e[i][k]*z[i][k] for i in range(n_warehouses) for k in range(n_stores))\n",
        "prob += cost\n",
        "\n",
        "# Define the constraints\n",
        "# The total number of books sent from each warehouse must not exceed its capacity\n",
        "for i in range(n_warehouses):\n",
        "    prob += lpSum(x[i][j] for j in range(n_distribution_centers)) + lpSum(z[i][k] for k in range(n_stores)) <= capacity[i]\n",
        "\n",
        "# The total number of books received by each store must meet its demand\n",
        "for k in range(n_stores):\n",
        "    prob += lpSum(y[j][k] for j in range(n_distribution_centers)) + lpSum(z[i][k] for i in range(n_warehouses)) == demand[k]\n",
        "\n",
        "# The total number of books sent from each distribution center must equal the total number received\n",
        "for j in range(n_distribution_centers):\n",
        "    prob += lpSum(x[i][j] for i in range(n_warehouses)) == lpSum(y[j][k] for k in range(n_stores))\n",
        "\n",
        "# Solve the problem using\n",
        "prob.solve()\n",
        "\n",
        "# Print the optimal solution\n",
        "print_solution_and_cost()"
      ],
      "metadata": {
        "id": "c3x5bfAPCBzJ",
        "colab": {
          "base_uri": "https://localhost:8080/"
        },
        "outputId": "0a246878-53bb-4d20-ccd3-3251faa29ac4"
      },
      "execution_count": null,
      "outputs": [
        {
          "output_type": "stream",
          "name": "stdout",
          "text": [
            "Optimal transportation plan:\n",
            "x[2][2] = 6550.0\n",
            "y[2][2] = 6550.0\n",
            "z[0][1] = 1750.0\n",
            "z[0][4] = 1250.0\n",
            "z[1][0] = 5000.0\n",
            "z[2][0] = 500.0\n",
            "z[2][4] = 450.0\n",
            "z[3][1] = 3000.0\n",
            "z[3][3] = 4000.0\n",
            "------------------------------------------------------------------------\n",
            "Total (optimal minimum) cost: 80800.0\n",
            "------------------------------------------------------------------------\n",
            "x[i][j]: The number of books sent from \u001b[3mwarehouse\u001b[0m i to \u001b[3mdistribution center\u001b[0m j.\n",
            "y[j][k]: The number of books sent from \u001b[3mdistribution center\u001b[0m j to \u001b[3mstore\u001b[0m k.\n",
            "z[i][k]: The number of books sent directly from \u001b[3mwarehouse\u001b[0m i to \u001b[3mstore\u001b[0m k.\n",
            "------------------------------------------------------------------------\n",
            "Warehouses (i):              [Tonoz(0), White_Kiosk(1), Quarterage(2), Middle_Yard(3)]\n",
            "Distribution Centers (j):    [Atlas(0), Nebulae(1), Azure(2)]\n",
            "Stores (k):                  [Venus(0), Minerva(1), Neptunus(2), Mars(3), Ceres(4)]\n"
          ]
        }
      ]
    },
    {
      "cell_type": "markdown",
      "source": [
        "## e) If we change the shipment cost from warehouse Tonoz to distribution center Atlas as 10 and Azure to Minerva as 5, how the objective function is affected. Give new objective value and number of shipments, and then explain your answer with few sentences."
      ],
      "metadata": {
        "id": "DIeonhIeCLE8"
      }
    },
    {
      "cell_type": "markdown",
      "source": [
        "If we change the shipment cost from warehouse Tonoz to distribution center Atlas to 10 and from distribution center Azure to store Minerva to 5, the values of the decision variables and the objective function will change."
      ],
      "metadata": {
        "id": "ADNKg3tsChoZ"
      }
    },
    {
      "cell_type": "code",
      "source": [
        "from pulp import LpProblem, LpMinimize, LpVariable, lpSum\n",
        "import numpy as np\n",
        "\n",
        "# Define the problem data\n",
        "n_warehouses = 4\n",
        "n_distribution_centers = 3\n",
        "n_stores = 5\n",
        "\n",
        "capacity = [3000, 5000, 10000, 7000]\n",
        "demand = [5500, 4750, 6550, 4000, 4200]\n",
        "\n",
        "np.random.seed(19069608)\n",
        "c = np.random.randint(1, 10, size=(n_warehouses, n_distribution_centers))\n",
        "d = np.random.randint(1, 10, size=(n_distribution_centers, n_stores))\n",
        "e = np.random.randint(1, 10, size=(n_warehouses, n_stores))\n",
        "\n",
        "# Change shipment cost from warehouse Tonoz to distribution center Atlas to 10\n",
        "c[0][0] = 10\n",
        "\n",
        "# Change shipment cost from distribution center Azure to store Minerva to 5\n",
        "d[2][1] = 5\n",
        "\n",
        "# Define the decision variables\n",
        "x = LpVariable.dicts(\"x\", (range(n_warehouses), range(n_distribution_centers)), lowBound=0)\n",
        "y = LpVariable.dicts(\"y\", (range(n_distribution_centers), range(n_stores)), lowBound=0)\n",
        "z = LpVariable.dicts(\"z\", (range(n_warehouses), range(n_stores)), lowBound=0)\n",
        "\n",
        "# Define the problem\n",
        "prob = LpProblem(\"TransportationProblem\", LpMinimize)\n",
        "\n",
        "# Define the objective function\n",
        "cost = lpSum(c[i][j]*x[i][j] for i in range(n_warehouses) for j in range(n_distribution_centers)) + lpSum(d[j][k]*y[j][k] for j in range(n_distribution_centers) for k in range(n_stores)) + lpSum(e[i][k]*z[i][k] for i in range(n_warehouses) for k in range(n_stores))\n",
        "prob += cost\n",
        "\n",
        "# Define the constraints\n",
        "# The total number of books sent from each warehouse must not exceed its capacity\n",
        "for i in range(n_warehouses):\n",
        "    prob += lpSum(x[i][j] for j in range(n_distribution_centers)) + lpSum(z[i][k] for k in range(n_stores)) <= capacity[i]\n",
        "\n",
        "# The total number of books received by each store must meet its demand\n",
        "for k in range(n_stores):\n",
        "    prob += lpSum(y[j][k] for j in range(n_distribution_centers)) + lpSum(z[i][k] for i in range(n_warehouses)) == demand[k]\n",
        "\n",
        "# The total number of books sent from each distribution center must equal the total number received\n",
        "for j in range(n_distribution_centers):\n",
        "    prob += lpSum(x[i][j] for i in range(n_warehouses)) == lpSum(y[j][k] for k in range(n_stores))\n",
        "\n",
        "# Solve the problem\n",
        "prob.solve()\n",
        "\n",
        "# Print the optimal solution\n",
        "print_solution_and_cost()"
      ],
      "metadata": {
        "id": "UFCUOyfJCaWh",
        "colab": {
          "base_uri": "https://localhost:8080/"
        },
        "outputId": "4bc793b4-630d-44ea-d41e-134ec9abf2a9"
      },
      "execution_count": null,
      "outputs": [
        {
          "output_type": "stream",
          "name": "stdout",
          "text": [
            "Optimal transportation plan:\n",
            "x[2][2] = 6550.0\n",
            "y[2][2] = 6550.0\n",
            "z[0][1] = 1750.0\n",
            "z[0][4] = 1250.0\n",
            "z[1][0] = 5000.0\n",
            "z[2][0] = 500.0\n",
            "z[2][4] = 2950.0\n",
            "z[3][1] = 3000.0\n",
            "z[3][3] = 4000.0\n",
            "------------------------------------------------------------------------\n",
            "Total (optimal minimum) cost: 95800.0\n",
            "------------------------------------------------------------------------\n",
            "x[i][j]: The number of books sent from \u001b[3mwarehouse\u001b[0m i to \u001b[3mdistribution center\u001b[0m j.\n",
            "y[j][k]: The number of books sent from \u001b[3mdistribution center\u001b[0m j to \u001b[3mstore\u001b[0m k.\n",
            "z[i][k]: The number of books sent directly from \u001b[3mwarehouse\u001b[0m i to \u001b[3mstore\u001b[0m k.\n",
            "------------------------------------------------------------------------\n",
            "Warehouses (i):              [Tonoz(0), White_Kiosk(1), Quarterage(2), Middle_Yard(3)]\n",
            "Distribution Centers (j):    [Atlas(0), Nebulae(1), Azure(2)]\n",
            "Stores (k):                  [Venus(0), Minerva(1), Neptunus(2), Mars(3), Ceres(4)]\n"
          ]
        }
      ]
    },
    {
      "cell_type": "markdown",
      "source": [
        "## f) If we change the capacity of the warehouse Middle Yard from 7000 to 5000, what should we expect? Can we obtain optimal solution? Please explain your conclusion clearly. If it is necessary make some arrangement and give the results with explanations."
      ],
      "metadata": {
        "id": "aPfF4vTGCnt5"
      }
    },
    {
      "cell_type": "markdown",
      "source": [
        "If we change the capacity of the warehouse Middle Yard from 7000 to 5000, the values of the decision variables and the objective function will change."
      ],
      "metadata": {
        "id": "Sy7VBHQqCw-w"
      }
    },
    {
      "cell_type": "code",
      "source": [
        "from pulp import LpProblem, LpMinimize, LpVariable, lpSum\n",
        "import numpy as np\n",
        "\n",
        "# Define the problem data\n",
        "n_warehouses = 4\n",
        "n_distribution_centers = 3\n",
        "n_stores = 5\n",
        "\n",
        "capacity = [3000, 5000, 10000, 5000] # changed capacity of Middle Yard from 7000 to 5000\n",
        "demand = [5500, 4750, 6550, 4000, 4200]\n",
        "\n",
        "np.random.seed(19069608)\n",
        "c = np.random.randint(1, 10, size=(n_warehouses, n_distribution_centers))\n",
        "d = np.random.randint(1, 10, size=(n_distribution_centers, n_stores))\n",
        "e = np.random.randint(1, 10, size=(n_warehouses, n_stores))\n",
        "\n",
        "# Define the decision variables\n",
        "x = LpVariable.dicts(\"x\", (range(n_warehouses), range(n_distribution_centers)), lowBound=0)\n",
        "y = LpVariable.dicts(\"y\", (range(n_distribution_centers), range(n_stores)), lowBound=0)\n",
        "z = LpVariable.dicts(\"z\", (range(n_warehouses), range(n_stores)), lowBound=0)\n",
        "\n",
        "# Define the problem\n",
        "prob = LpProblem(\"TransportationProblem\", LpMinimize)\n",
        "\n",
        "# Define the objective function\n",
        "cost = lpSum(c[i][j]*x[i][j] for i in range(n_warehouses) for j in range(n_distribution_centers)) + lpSum(d[j][k]*y[j][k] for j in range(n_distribution_centers) for k in range(n_stores)) + lpSum(e[i][k]*z[i][k] for i in range(n_warehouses) for k in range(n_stores))\n",
        "prob += cost\n",
        "\n",
        "# Define the constraints\n",
        "# The total number of books sent from each warehouse must not exceed its capacity\n",
        "for i in range(n_warehouses):\n",
        "    prob += lpSum(x[i][j] for j in range(n_distribution_centers)) + lpSum(z[i][k] for k in range(n_stores)) <= capacity[i]\n",
        "\n",
        "# The total number of books received by each store must meet its demand\n",
        "for k in range(n_stores):\n",
        "    prob += lpSum(y[j][k] for j in range(n_distribution_centers)) + lpSum(z[i][k] for i in range(n_warehouses)) == demand[k]\n",
        "\n",
        "# The total number of books sent from each distribution center must equal the total number received\n",
        "for j in range(n_distribution_centers):\n",
        "    prob += lpSum(x[i][j] for i in range(n_warehouses)) == lpSum(y[j][k] for k in range(n_stores))\n",
        "\n",
        "# Solve the problem\n",
        "prob.solve()\n",
        "\n",
        "# Print the optimal solution\n",
        "print_solution_and_cost()\n"
      ],
      "metadata": {
        "id": "FSNkPhEjCvFy",
        "colab": {
          "base_uri": "https://localhost:8080/"
        },
        "outputId": "d909f02a-1de7-4930-bf81-15a13fc01045"
      },
      "execution_count": null,
      "outputs": [
        {
          "output_type": "stream",
          "name": "stdout",
          "text": [
            "Optimal transportation plan:\n",
            "x[2][2] = 6550.0\n",
            "y[2][2] = 6550.0\n",
            "z[0][1] = 3000.0\n",
            "z[1][0] = 6250.0\n",
            "z[2][4] = 4200.0\n",
            "z[3][1] = 1750.0\n",
            "z[3][3] = 5250.0\n",
            "------------------------------------------------------------------------\n",
            "Total (optimal minimum) cost: 95800.0\n",
            "------------------------------------------------------------------------\n",
            "x[i][j]: The number of books sent from \u001b[3mwarehouse\u001b[0m i to \u001b[3mdistribution center\u001b[0m j.\n",
            "y[j][k]: The number of books sent from \u001b[3mdistribution center\u001b[0m j to \u001b[3mstore\u001b[0m k.\n",
            "z[i][k]: The number of books sent directly from \u001b[3mwarehouse\u001b[0m i to \u001b[3mstore\u001b[0m k.\n",
            "------------------------------------------------------------------------\n",
            "Warehouses (i):              [Tonoz(0), White_Kiosk(1), Quarterage(2), Middle_Yard(3)]\n",
            "Distribution Centers (j):    [Atlas(0), Nebulae(1), Azure(2)]\n",
            "Stores (k):                  [Venus(0), Minerva(1), Neptunus(2), Mars(3), Ceres(4)]\n"
          ]
        }
      ]
    },
    {
      "cell_type": "markdown",
      "source": [
        "After running this code with this change to capacity value we get a new optimal transportation plan with a total cost of 95800.0. The values of decision variables x, y, and z are also different compared to their values before this change."
      ],
      "metadata": {
        "id": "LlTqz9q9C5qy"
      }
    }
  ]
}